{
 "cells": [
  {
   "cell_type": "markdown",
   "id": "ea1027ca",
   "metadata": {
    "slideshow": {
     "slide_type": "slide"
    }
   },
   "source": [
    "## Configuring git"
   ]
  },
  {
   "cell_type": "markdown",
   "id": "e2d69960",
   "metadata": {
    "slideshow": {
     "slide_type": "fragment"
    }
   },
   "source": [
    "You need to set a username and email in git to make commits. this doesn't have to be the same as your github username\n"
   ]
  },
  {
   "cell_type": "markdown",
   "id": "49987d2a",
   "metadata": {
    "slideshow": {
     "slide_type": "fragment"
    }
   },
   "source": [
    "```\n",
    "> git config --global user.name \"Any Name\"\n",
    "> git config --global user.email \"<github-email>\"\n",
    "```"
   ]
  },
  {
   "cell_type": "markdown",
   "id": "5e7a038f",
   "metadata": {},
   "source": [
    "## Initializing a repo\n",
    "\n",
    "You can get a local repo by initializing one on github and cloning it, initializing one locally with `git init` (which then you can add a remote manually). You can clone someone else's repo directly in github, or you can fork it and clone your forked version. If you plan to make changes that you want to live upstream, forking is a best practice (you can't push to someone else's personal github repo)."
   ]
  },
  {
   "cell_type": "markdown",
   "id": "deba68c4",
   "metadata": {},
   "source": [
    "1. Fork the tutorial repo (https://github.com/gchronis/git_tutorial)\n",
    "2. Clone it over ssh\n",
    "    ```\n",
    "    git clone git@github.com:<your_username>/git_tutorial.git\n",
    "    ```"
   ]
  },
  {
   "cell_type": "markdown",
   "id": "96d66c75",
   "metadata": {},
   "source": [
    "### Commits"
   ]
  },
  {
   "cell_type": "markdown",
   "id": "63f1055e",
   "metadata": {},
   "source": [
    "Git operates not on whole files but on changes to the repository. The current directory state is arrived at by layering a series of changes over one another. Changes to the repository are called commits. "
   ]
  },
  {
   "cell_type": "markdown",
   "id": "bfdf1131",
   "metadata": {
    "slideshow": {
     "slide_type": ""
    }
   },
   "source": [
    "Sometimes you only want to save a little bit of work at a time. Git has three structures that help you keep track of the most recent edits you've made, the edits you plan to add to the 'history' of the repo and the history that's already saved. "
   ]
  },
  {
   "cell_type": "markdown",
   "id": "32d4457f",
   "metadata": {},
   "source": [
    " <img src=\"img/staging_area.png\" alt=\"Image\">"
   ]
  },
  {
   "cell_type": "markdown",
   "id": "d30cce88",
   "metadata": {},
   "source": [
    "### Check status of the repo\n",
    "\n",
    "Right now our working directory is clean\n",
    "\n",
    "```\n",
    "> git status\n",
    "```"
   ]
  },
  {
   "cell_type": "markdown",
   "id": "85e91a79",
   "metadata": {},
   "source": [
    "### Making Changes\n",
    "\n",
    "1. first make changes to the repo. We'll add a new file and do some work in it\n",
    "\n",
    "```\n",
    "> touch \"example.txt\"\n",
    "> echo \"some work\" > example.txt\n",
    "```"
   ]
  },
  {
   "cell_type": "markdown",
   "id": "c5906e9c",
   "metadata": {},
   "source": []
  },
  {
   "cell_type": "markdown",
   "id": "b24a69d3",
   "metadata": {},
   "source": [
    "### Commiting Changes\n",
    "\n",
    "We've changed the state of the working directory. Run the status command again. The changes in red show changes in your working directory, compared to the git repository. right now the file is untracked."
   ]
  },
  {
   "cell_type": "markdown",
   "id": "401844ae",
   "metadata": {},
   "source": [
    "### git add\n",
    "\n",
    "Stage the changes for commit. this command adds stuff to the **index** or **staging area**\n",
    "\n",
    "The star is a wildcard operator\n",
    "```\n",
    "git add *\n",
    "```\n",
    "OR\n",
    "```\n",
    "git add example.txt\n",
    "```"
   ]
  },
  {
   "cell_type": "markdown",
   "id": "63527c4a",
   "metadata": {},
   "source": [
    "### git commit\n",
    "\n",
    "When we have all the changes we want to add, we commit those changes to the repo. Specifically, we commit them to the branch we are on (in this case, master)\n",
    "```\n",
    "> git commit -m \"I did some work\"\n",
    "```\n",
    "You can also run the `git commit` command without the `-m` message flag, which will open the default git editor, where you can type a longer commit message.\n",
    "\n",
    "The `log` command shows you the history of commits on your current branch. Space bar to scroll, `q` to exit.\n",
    "```\n",
    "> git log\n",
    "```"
   ]
  },
  {
   "cell_type": "markdown",
   "id": "569c6c04",
   "metadata": {},
   "source": [
    "Let's do some more work\n",
    "```\n",
    "> echo \"moar werk\" > example.txt\n",
    "> git add example.txt\n",
    "```"
   ]
  },
  {
   "cell_type": "markdown",
   "id": "56c49852",
   "metadata": {},
   "source": [
    "Oh no! This overwrote the work we previously did. Luckily we can go back to the state the file was in before we started making more changes to our working directory\n",
    "```\n",
    "> git reset --soft HEAD~1\n",
    "\n",
    "git diff --cached\n",
    "\n",
    "\n",
    "```\n",
    "\n",
    "some work\n",
    "more work"
   ]
  },
  {
   "cell_type": "markdown",
   "id": "763666cc",
   "metadata": {},
   "source": [
    "We actually wanted to *add* work. We needed the concat operator, which is two angle brackets\n",
    "```\n",
    "> echo \"moar werk\" >> example.txt\n",
    "```"
   ]
  },
  {
   "cell_type": "markdown",
   "id": "c64e5412",
   "metadata": {},
   "source": [
    "Checking the status of the repo now, again we see git has noticed changes to the file. Now, since git is tracking this file, it can show us the difference or `diff` between the file in the working directory and the latest version of the file at the tip of the current branch.\n",
    "```\n",
    "> git diff\n",
    "```"
   ]
  },
  {
   "cell_type": "markdown",
   "id": "341dc491",
   "metadata": {},
   "source": [
    "Let's commit these changes and push them upstream to our fork"
   ]
  },
  {
   "cell_type": "code",
   "execution_count": null,
   "id": "584cb579",
   "metadata": {},
   "outputs": [],
   "source": [
    "`HEAD` is a ref that points to the tip of the branch we are currently on\n",
    "\n",
    "> git commit -m \"more work is there now\"\n",
    "> git push origin HEAD"
   ]
  },
  {
   "cell_type": "markdown",
   "id": "dc4d0dc9",
   "metadata": {},
   "source": [
    "Refresh your fork on github. You should see a button that says 'compare and pull request'. This allows you  to create a PR, which in this case is a request to me to pull the changes that you made into my repo. Let's try it"
   ]
  },
  {
   "cell_type": "markdown",
   "id": "e8b871b4",
   "metadata": {},
   "source": [
    "Everything looks good, we can merge, but there's a typo! We don't want to commmit this work at all. We have two options here.\n",
    "\n",
    "1. Make another commit that fixes the typo and push it. This will update the PR automatically\n",
    "2. Undo our last commit. This makes a cleaner history. Sometimes this is absolutely necessary like if you accidentally commit a secret key---you don't want that in the commit history.\n",
    "3. ammending commits: I love `git commit --amend` which allows you to add more staged changes to the most recent commit. I often do this if I forgot something small and important. \n",
    "\n",
    "Let's try option two: rewriting history"
   ]
  },
  {
   "cell_type": "markdown",
   "id": "8871ac23",
   "metadata": {},
   "source": [
    "### git reset\n",
    "\n",
    "A soft reset will put the committed changes back into the index. `HEAD~1` is a ref that always points to the commit before HEAD---which is almost always the tip of the current branch)\n",
    "```\n",
    "> git reset --soft HEAD~1\n",
    "> git status\n",
    "```\n",
    "You should see your changes. First, fix the typo."
   ]
  },
  {
   "cell_type": "markdown",
   "id": "ea66835a",
   "metadata": {},
   "source": [
    "Now when you run `git status` you see the file twice, once in red and once in green. The index (green) contains the version of the file we just 'uncommitted'. The working directory (red) contains the typo fix. We have to re add the file to the index to stage the corrected version.\n",
    "```\n",
    "> git add example.txt\n",
    "> git commit -m \"did more work\"\n",
    "> git push origin HEAD\n",
    "```"
   ]
  },
  {
   "cell_type": "markdown",
   "id": "35b15e15",
   "metadata": {},
   "source": [
    "Uh oh! We've angered the beast. Git is upset because the history of the upstream repo is different from the history of our local repository. It can't just play or 'fast-forward' our local changes to master on top if the remote branch `git@github.com:gchronis/git_tutorial.git/origin/master`\n",
    "\n",
    "**QUESTION:** Why is this? How does git compare the history of two branches?"
   ]
  },
  {
   "cell_type": "markdown",
   "id": "688458b9",
   "metadata": {},
   "source": [
    "Hint: The answer has to do with SHAs"
   ]
  },
  {
   "cell_type": "markdown",
   "id": "664ee8f7",
   "metadata": {},
   "source": [
    "### Force pushing\n",
    "\n",
    "We'll have to do a force push. This is a very dangerous tool! Use with caution. Only do this if you are 100 percent confident of exactly what will happen. I'm showing it to you because I trust you. But I also trust you will use safe workflows 100 percent of the time that will ensure you rarely if ever have to do this. "
   ]
  },
  {
   "cell_type": "markdown",
   "id": "31bb110b",
   "metadata": {},
   "source": [
    "```\n",
    "> git push --force origin HEAD\n",
    "```"
   ]
  },
  {
   "cell_type": "markdown",
   "id": "855f9eb1",
   "metadata": {},
   "source": [
    "The branch should be updated in github and we can now make a happy, clean PR that shows our changes in a logical order that helps others to review our code. "
   ]
  },
  {
   "cell_type": "markdown",
   "id": "2daf782f",
   "metadata": {},
   "source": [
    "## BRANCHING WORKFLOWS\n",
    "\n",
    "Git is at its most valuable, powerful—and therefore most dangerous—when used to collaborate with others. It allows us to maintain a single history of a repository, even as multiple people work in it at the same time, potentially changing the same files. \n"
   ]
  },
  {
   "cell_type": "markdown",
   "id": "68a86d3b",
   "metadata": {},
   "source": [
    "\n",
    "Sometimes you are working with others, and everyone has their own upstream fork. Even in this case, somebody's repo is bound to be the source of truth. How does that person make changes to the repo without messing things up for everybody?\n",
    "\n",
    "Enter branching.\n",
    "\n",
    "In other scenarios, for instance if you have multiple copies of a repo on a local machine and a remote server, or if you are working with others in an org that has a single shared github repo for a project, all of the local copies will have the same upstream repo. In this case, branching is absolutely crucial. "
   ]
  },
  {
   "cell_type": "markdown",
   "id": "d6fd864d",
   "metadata": {},
   "source": [
    "The commandments of collaboration in git (in order of importance)\n",
    "\n",
    "1. **NEVER force push to master** (`git push --force origin master`is forbidden)\n",
    "2. **NEVER commit to master** (double check with a `git branch` before you commit. are you on `master`?)\n",
    "3. **ONLY merge into master through fast forward** (i.e. `git merge --ff-only` flag)"
   ]
  },
  {
   "cell_type": "markdown",
   "id": "749d1a0e",
   "metadata": {},
   "source": [
    "If you follow these three rules, you won't ever ever jeopardize the changes you have committed to the master branch. The last rule is hardest to follow, as a fast-forward merge can require you to do a `rebase` if you or other people have made changes to the branch you are merging into."
   ]
  },
  {
   "cell_type": "markdown",
   "id": "18c71c15",
   "metadata": {
    "slideshow": {
     "slide_type": "slide"
    }
   },
   "source": [
    "If you have access to an external server (like the compling gpus) **and have already created SSH keys or have a process for pushing and pulling from github**, feel free to log on there to follow along. Tou can also use two different local repositories to simulate collaboration between two people---sometimes, when you work on the same project in two places, you get into git snafus with yourself. "
   ]
  },
  {
   "cell_type": "markdown",
   "id": "596ae5a9",
   "metadata": {},
   "source": [
    "## Checkout a new branch\n",
    "\n",
    "The checkout command switches your branch, or creates a new one with the `-b` flag"
   ]
  },
  {
   "cell_type": "markdown",
   "id": "daf935da",
   "metadata": {},
   "source": [
    "```\n",
    "> git checkout -b lots_of_work\n",
    "> git branch\n",
    "```"
   ]
  },
  {
   "cell_type": "markdown",
   "id": "3d5e3f3a",
   "metadata": {},
   "source": [
    "Now that we are on the \n",
    "\n",
    "```\n",
    "> echo \"even more work\" >> example.txt\n",
    "> git add example.txt\n",
    "> git commit -m \"i've done so much work today\"\n",
    "```\n",
    "\n",
    "A `git log` will show the changes.  You can switch baack to the main branch and run a `git log` and the changes aren't there anymore! Now for the spicy part."
   ]
  },
  {
   "cell_type": "markdown",
   "id": "f2915df9",
   "metadata": {},
   "source": [
    "### Clone a second copy of the repo\n",
    "\n",
    "Open a second tab in terminal\n",
    "\n",
    "> cd Desktop\n",
    "> git clone https://github.com/<your_username>/git_tutorial"
   ]
  },
  {
   "cell_type": "markdown",
   "id": "6900083d",
   "metadata": {},
   "source": [
    "You can see how easily we can run into problems if everybody did everything on master. Git would get hopelessly confused. \n",
    "\n",
    "Let's create a merge conflict. Make another branch where we totally change the `example.txt` file."
   ]
  },
  {
   "cell_type": "markdown",
   "id": "af41082d",
   "metadata": {},
   "source": [
    "```\n",
    "> git checkout -b refactor\n",
    "> echo \"total rehaul\" > example.txt\n",
    "> git add example.txt\n",
    "> git commit -m \"i changed absolutely everything\"\n",
    "> git push origin HEAD\n",
    "```"
   ]
  },
  {
   "cell_type": "markdown",
   "id": "d406e5d5",
   "metadata": {},
   "source": [
    "Now, go back to github. You should have two branches that we can compare and make a PR. We're going to make a PR into our own fork. Navigate to the `lots_of_work` branch and make a PR. "
   ]
  },
  {
   "cell_type": "markdown",
   "id": "7c236118",
   "metadata": {},
   "source": [
    "We can merge in our own PR because it's against our fork. Let's do it!"
   ]
  },
  {
   "cell_type": "markdown",
   "id": "2e66f2b9",
   "metadata": {},
   "source": [
    "But now we can't merge the second branch! We edited the same file in a way that git can't resolve.\n",
    "\n",
    "We could fix merge conflicts on github. but this is not recommended. Why might this be?"
   ]
  },
  {
   "cell_type": "code",
   "execution_count": null,
   "id": "108fd9af",
   "metadata": {},
   "outputs": [],
   "source": [
    "## git rebase\n",
    "\n",
    "We are going to rewrite history.\n",
    "\n",
    "First we need to get the latest changes on our local machine. Master has been updated!"
   ]
  },
  {
   "cell_type": "markdown",
   "id": "4f6da3ae",
   "metadata": {},
   "source": [
    "This is what `git pull` is for. Pull is shorthand for `git fetch`+ `git merge`. Fetch usually goes off without a hitch but if there are merge conflicts, git will launch you into an interactive merge. You have to resolve merge conflicts and make a new merge commit. We want to avoid this!"
   ]
  },
  {
   "cell_type": "markdown",
   "id": "f77fabca",
   "metadata": {},
   "source": [
    "```\n",
    "> git fetch\n",
    "```"
   ]
  },
  {
   "cell_type": "code",
   "execution_count": null,
   "id": "0541306d",
   "metadata": {},
   "outputs": [],
   "source": []
  },
  {
   "cell_type": "code",
   "execution_count": null,
   "id": "55dbb6c5",
   "metadata": {},
   "outputs": [],
   "source": [
    "Do a git log. Where are our changes?"
   ]
  },
  {
   "cell_type": "markdown",
   "id": "12ba7219",
   "metadata": {},
   "source": [
    "```\n",
    "> git branch -a\n",
    "> git checkout remotes/origin/main\n",
    "> git log\n",
    "```\n",
    "\n",
    "When we fetch, the upstream changes are stored in separate branches in our local repo. This is what actually gets merged in when we do a merge. Now switch back to main\n",
    "\n",
    "```\n",
    "> git checkout main\n",
    "> git log\n",
    "```\n",
    "\n",
    "Now merge in the changes we fetched from upstream!\n",
    "\n",
    "```\n",
    "git merge --ff-only origin/main\n",
    "```"
   ]
  },
  {
   "cell_type": "markdown",
   "id": "db109327",
   "metadata": {},
   "source": [
    "We can make a git alias for commands we use very often\n",
    "```\n",
    "> git config --global alias.ff 'merge --ff-only'\n",
    "> git ff origin/main\n",
    "```"
   ]
  },
  {
   "cell_type": "code",
   "execution_count": null,
   "id": "0926030f",
   "metadata": {},
   "outputs": [],
   "source": [
    "You are allowed to do a git pull! But only if you know what is going on."
   ]
  },
  {
   "cell_type": "code",
   "execution_count": null,
   "id": "b325ffda",
   "metadata": {},
   "outputs": [],
   "source": [
    "### now for the rebase\n",
    "> git checkout refactor\n",
    "> git rebase master refactor"
   ]
  },
  {
   "cell_type": "code",
   "execution_count": null,
   "id": "c57c2c91",
   "metadata": {},
   "outputs": [],
   "source": [
    "So, what just happened?"
   ]
  },
  {
   "cell_type": "markdown",
   "id": "69439652",
   "metadata": {},
   "source": [
    " <img src=\"img/before-git-rebase-command.png\" alt=\"Image\">"
   ]
  },
  {
   "cell_type": "markdown",
   "id": "73670ab5",
   "metadata": {},
   "source": [
    " <img src=\"img/after-git-rebase-command.png\" alt=\"Image\">"
   ]
  },
  {
   "cell_type": "code",
   "execution_count": null,
   "id": "efc75b91",
   "metadata": {},
   "outputs": [],
   "source": [
    "After a successful develop branch to master rebase:\n",
    "\n",
    "    The files in the master branch will not change\n",
    "    The develop branch will additionally acquire all of the master branch’s new files\n",
    "    The develop stream’s branch point will change.\n",
    "        It will appear as though the develop branch split after commit E on the master branch.\n",
    "        Before the rebase, the develop branch split from master at commit C."
   ]
  },
  {
   "cell_type": "code",
   "execution_count": null,
   "id": "b46820f3",
   "metadata": {},
   "outputs": [],
   "source": []
  },
  {
   "cell_type": "markdown",
   "id": "64cde9c5",
   "metadata": {},
   "source": [
    "# TL;DR: Ideal Workflow\n",
    "\n",
    "1. Always work off a fork of the repo if it isn't your own\n",
    "2. Never work on `master`. Always check out a new branch when it's time to start developing a new feature\n",
    "3. If you are collaborating, keep a branch to a reasonable, comprehensible amount of work.\n",
    "4. Don't fix merge conflicts in github. DO them on tee command line. "
   ]
  },
  {
   "cell_type": "markdown",
   "id": "e26056bb",
   "metadata": {},
   "source": [
    "# Git + Jupyter\n",
    "\n",
    "I don't use this but I'm going to look into it!\n",
    "\n",
    "https://www.fast.ai/posts/2022-08-25-jupyter-git.html"
   ]
  },
  {
   "cell_type": "markdown",
   "id": "8f526feb",
   "metadata": {},
   "source": [
    "Creating a  `.gitignore` file can help with those pesky cache files and anything else you don't want committed like very large files or other people's data. Any files matching the patterns in the file will be ignored by git. My `.gitignore` often looks like this:\n",
    "\n",
    "```\n",
    "data/\n",
    "__pycache__/\n",
    ".ipynb_checkpoints/\n",
    ".RData\n",
    ".Rhistory\n",
    ".DS_Store\n",
    "```"
   ]
  },
  {
   "cell_type": "markdown",
   "id": "d9dbf542",
   "metadata": {
    "slideshow": {
     "slide_type": "subslide"
    }
   },
   "source": [
    "## Appendix: Setting up git on remote server (not finished yet)\n",
    "\n",
    "2. Connect to the Cisco any connect VPN (link to gdoc)\n",
    "3. log on onto the server \n",
    "    ```\n",
    "    > ssh EID@compling.la.utexas.edu \n",
    "    ```\n",
    "4. configure git with your git username and github email\n",
    "    ```\n",
    "    > git config --global user.name \"Any Name\"\n",
    "    > git config --global user.email githubemailaccount@company.com\n",
    "    ```"
   ]
  },
  {
   "cell_type": "markdown",
   "id": "91253d17",
   "metadata": {},
   "source": [
    "### Generating an ssh key pair\n",
    "\n",
    "the private key lives on your machine and the public key lives on git\n",
    "https://docs.github.com/en/authentication/connecting-to-github-with-ssh/generating-a-new-ssh-key-and-adding-it-to-the-ssh-agent\n",
    "if you plan on working on a remote machine like the compling server, you should make a separate ssh key pair for that device. Below is the sequence of commands and prompts that makes the key "
   ]
  },
  {
   "cell_type": "markdown",
   "id": "3d0585ab",
   "metadata": {},
   "source": [
    "```\n",
    "(base) [gsc685@phyl-ling-p01 ~]$ mkdir ~/.ssh\n",
    "(base) [gsc685@phyl-ling-p01 ~]$ cd .ssh/\n",
    "(base) [gsc685@phyl-ling-p01 .ssh]$ ssh-keygen -t ed25519 -C \"gigichronis@gmail.com\"\n",
    "Generating public/private ed25519 key pair.\n",
    "Enter file in which to save the key (/home/gsc685/.ssh/id_ed25519):\n",
    "Enter passphrase (empty for no passphrase):\n",
    "Enter same passphrase again:\n",
    "Your identification has been saved in /home/gsc685/.ssh/id_ed25519.\n",
    "Your public key has been saved in /home/gsc685/.ssh/id_ed25519.pub.\n",
    "The key fingerprint is:\n",
    "SHA256:4CwyZq4roMJzSSjiAjklwcYPdJo+KSpxHsJPRWg8Yk0 gigichronis@gmail.com\n",
    "The key's randomart image is:\n",
    "+--[ED25519 256]--+\n",
    "|+.+E..           |\n",
    "|.B+*.            |\n",
    "|o+= ...          |\n",
    "|+ o..o .         |\n",
    "|+OO.. o S        |\n",
    "|XX+= .           |\n",
    "|@.+..            |\n",
    "|*= o             |\n",
    "|*.o              |\n",
    "+----[SHA256]-----+\n",
    "```\n"
   ]
  },
  {
   "cell_type": "markdown",
   "id": "30796a25",
   "metadata": {},
   "source": [
    "Restart the ssh agent and add the key to it\n",
    "\n",
    "```\n",
    "(base) [gsc685@phyl-ling-p01 .ssh]$ eval \"$(ssh-agent -s)\"\n",
    "Agent pid 652299\n",
    "(base) [gsc685@phyl-ling-p01 .ssh]$ ssh-add ~/.ssh/id_ed25519\n",
    "Enter passphrase for /home/gsc685/.ssh/id_ed25519:\n",
    "Identity added: /home/gsc685/.ssh/id_ed25519 (gigichronis@gmail.com)\n",
    "```"
   ]
  },
  {
   "cell_type": "markdown",
   "id": "8f82118b",
   "metadata": {},
   "source": [
    "Exercise - branching \n",
    "fork repository\n",
    "clone it to your local environment\n"
   ]
  },
  {
   "cell_type": "markdown",
   "id": "977f82a5",
   "metadata": {},
   "source": [
    "CHEAT SHEET\n",
    "\n"
   ]
  },
  {
   "cell_type": "code",
   "execution_count": null,
   "id": "892c1c2f",
   "metadata": {},
   "outputs": [],
   "source": [
    "LINKS\n",
    "\n",
    "important concepts (index, HEAD, etc.): https://www.tutorialspoint.com/git/git_basic_concepts.htm\n",
    "\n",
    "\n"
   ]
  }
 ],
 "metadata": {
  "celltoolbar": "Slideshow",
  "kernelspec": {
   "display_name": "Python 3 (ipykernel)",
   "language": "python",
   "name": "python3"
  },
  "language_info": {
   "codemirror_mode": {
    "name": "ipython",
    "version": 3
   },
   "file_extension": ".py",
   "mimetype": "text/x-python",
   "name": "python",
   "nbconvert_exporter": "python",
   "pygments_lexer": "ipython3",
   "version": "3.11.4"
  }
 },
 "nbformat": 4,
 "nbformat_minor": 5
}
